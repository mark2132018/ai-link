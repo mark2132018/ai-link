{
 "cells": [
  {
   "cell_type": "code",
   "execution_count": null,
   "metadata": {},
   "outputs": [],
   "source": [
    "%pip install zmq web3 cryptography"
   ]
  },
  {
   "cell_type": "code",
   "execution_count": 2,
   "metadata": {},
   "outputs": [],
   "source": [
    "import zmq\n",
    "from web3 import Web3\n",
    "\n",
    "from cryptography.hazmat.primitives import serialization\n",
    "from cryptography.hazmat.primitives.asymmetric import padding\n",
    "from cryptography.hazmat.primitives.hashes import SHA256\n",
    "from cryptography.hazmat.backends import default_backend"
   ]
  },
  {
   "cell_type": "code",
   "execution_count": 3,
   "metadata": {},
   "outputs": [],
   "source": [
    "def encrypt(message):\n",
    "    with open(\"keys/public.pem\", \"rb\") as f:\n",
    "        public_key = serialization.load_pem_public_key(\n",
    "            f.read(),\n",
    "            backend=default_backend()\n",
    "        )\n",
    "\n",
    "    encrypted_message = public_key.encrypt(\n",
    "        message,\n",
    "        padding.OAEP(\n",
    "            mgf=padding.MGF1(algorithm=SHA256()),\n",
    "            algorithm=SHA256(),\n",
    "            label=None\n",
    "        )\n",
    "    )\n",
    "\n",
    "    return encrypted_message"
   ]
  },
  {
   "cell_type": "code",
   "execution_count": 4,
   "metadata": {},
   "outputs": [],
   "source": [
    "def decrypt(encrypted_message): \n",
    "    with open(\"keys/private.pem\", \"rb\") as f:\n",
    "        private_key = serialization.load_pem_private_key(\n",
    "            f.read(),\n",
    "            password=None,\n",
    "            backend=default_backend()\n",
    "        )\n",
    "\n",
    "    decrypted_message = private_key.decrypt(\n",
    "        encrypted_message,\n",
    "        padding.OAEP(\n",
    "            mgf=padding.MGF1(algorithm=SHA256()),\n",
    "            algorithm=SHA256(),\n",
    "            label=None\n",
    "        )\n",
    "    )\n",
    "\n",
    "    return decrypted_message"
   ]
  },
  {
   "cell_type": "code",
   "execution_count": 5,
   "metadata": {},
   "outputs": [],
   "source": [
    "w3 = Web3(Web3.HTTPProvider(\"http://127.0.0.1:9944\"))\n",
    "\n",
    "with open(\"contract/address\", \"r\") as file:\n",
    "    address = file.read()\n",
    "\n",
    "with open(\"contract/abi\", \"r\") as file:\n",
    "    abi = file.read()\n",
    "\n",
    "contract_instance = w3.eth.contract(address=address, abi=abi)"
   ]
  },
  {
   "cell_type": "code",
   "execution_count": null,
   "metadata": {},
   "outputs": [],
   "source": [
    "class TEE:\n",
    "    def __init__(self, client_address=\"tcp://*:9002\", server_address=\"tcp://127.0.0.1:9003\"):\n",
    "        self.context = zmq.Context()\n",
    "\n",
    "        # Client Communication\n",
    "        self.client_socket = self.context.socket(zmq.REP)  # REPLY to client\n",
    "        self.client_socket.bind(client_address)\n",
    "\n",
    "        # Server Communication\n",
    "        self.server_socket = self.context.socket(zmq.REQ)  # REQUEST to server\n",
    "        self.server_socket.connect(server_address)\n",
    "\n",
    "    def forward_to_server(self, data):\n",
    "        \"\"\"Forward the model received from the client to the server.\"\"\"\n",
    "        print(\"Forwarding model to server...\")\n",
    "        self.server_socket.send(data)\n",
    "        return self.server_socket.recv()  # Receive response from server\n",
    "\n",
    "    def forward_to_client(self, data):\n",
    "        \"\"\"Forward the aggregated model from the server to the client.\"\"\"\n",
    "        print(\"Forwarding aggregated model to client...\")\n",
    "        self.client_socket.send(data)\n",
    "\n",
    "    def run(self):\n",
    "        print(\"TEE is running...\")\n",
    "        while True:\n",
    "            # Receive model from client\n",
    "            client_message = self.client_socket.recv()\n",
    "            print(\"Received model from client.\")\n",
    "\n",
    "            # Forward to server and get the response (aggregated model or ACK)\n",
    "            server_response = self.forward_to_server(client_message)\n",
    "\n",
    "            # Send the server response back to the client\n",
    "            self.forward_to_client(server_response)\n",
    "\n",
    "if __name__ == \"__main__\":\n",
    "    tee_processor = TEE()\n",
    "    tee_processor.run()\n"
   ]
  }
 ],
 "metadata": {
  "kernelspec": {
   "display_name": "base",
   "language": "python",
   "name": "python3"
  },
  "language_info": {
   "codemirror_mode": {
    "name": "ipython",
    "version": 3
   },
   "file_extension": ".py",
   "mimetype": "text/x-python",
   "name": "python",
   "nbconvert_exporter": "python",
   "pygments_lexer": "ipython3",
   "version": "3.12.2"
  }
 },
 "nbformat": 4,
 "nbformat_minor": 2
}
