{
 "cells": [
  {
   "cell_type": "code",
   "execution_count": 1,
   "metadata": {},
   "outputs": [
    {
     "name": "stdout",
     "output_type": "stream",
     "text": [
      "Requirement already satisfied: zmq in /home/cess/miniconda3/lib/python3.12/site-packages (0.0.0)\n",
      "Requirement already satisfied: web3 in /home/cess/miniconda3/lib/python3.12/site-packages (7.3.0)\n",
      "Requirement already satisfied: cryptography in /home/cess/miniconda3/lib/python3.12/site-packages (42.0.5)\n",
      "Requirement already satisfied: pyzmq in /home/cess/miniconda3/lib/python3.12/site-packages (from zmq) (26.1.0)\n",
      "Requirement already satisfied: eth-abi>=5.0.1 in /home/cess/miniconda3/lib/python3.12/site-packages (from web3) (5.1.0)\n",
      "Requirement already satisfied: eth-account>=0.13.1 in /home/cess/miniconda3/lib/python3.12/site-packages (from web3) (0.13.4)\n",
      "Requirement already satisfied: eth-hash>=0.5.1 in /home/cess/miniconda3/lib/python3.12/site-packages (from eth-hash[pycryptodome]>=0.5.1->web3) (0.7.0)\n",
      "Requirement already satisfied: eth-typing>=5.0.0 in /home/cess/miniconda3/lib/python3.12/site-packages (from web3) (5.0.0)\n",
      "Requirement already satisfied: eth-utils>=5.0.0 in /home/cess/miniconda3/lib/python3.12/site-packages (from web3) (5.0.0)\n",
      "Requirement already satisfied: hexbytes>=1.2.0 in /home/cess/miniconda3/lib/python3.12/site-packages (from web3) (1.2.1)\n",
      "Requirement already satisfied: aiohttp>=3.7.4.post0 in /home/cess/miniconda3/lib/python3.12/site-packages (from web3) (3.10.3)\n",
      "Requirement already satisfied: pydantic>=2.4.0 in /home/cess/miniconda3/lib/python3.12/site-packages (from web3) (2.9.2)\n",
      "Requirement already satisfied: requests>=2.23.0 in /home/cess/miniconda3/lib/python3.12/site-packages (from web3) (2.32.2)\n",
      "Requirement already satisfied: typing-extensions>=4.0.1 in /home/cess/miniconda3/lib/python3.12/site-packages (from web3) (4.11.0)\n",
      "Requirement already satisfied: types-requests>=2.0.0 in /home/cess/miniconda3/lib/python3.12/site-packages (from web3) (2.32.0.20240914)\n",
      "Requirement already satisfied: websockets>=10.0.0 in /home/cess/miniconda3/lib/python3.12/site-packages (from web3) (13.1)\n",
      "Requirement already satisfied: pyunormalize>=15.0.0 in /home/cess/miniconda3/lib/python3.12/site-packages (from web3) (16.0.0)\n",
      "Requirement already satisfied: cffi>=1.12 in /home/cess/miniconda3/lib/python3.12/site-packages (from cryptography) (1.16.0)\n",
      "Requirement already satisfied: aiohappyeyeballs>=2.3.0 in /home/cess/miniconda3/lib/python3.12/site-packages (from aiohttp>=3.7.4.post0->web3) (2.4.0)\n",
      "Requirement already satisfied: aiosignal>=1.1.2 in /home/cess/miniconda3/lib/python3.12/site-packages (from aiohttp>=3.7.4.post0->web3) (1.3.1)\n",
      "Requirement already satisfied: attrs>=17.3.0 in /home/cess/miniconda3/lib/python3.12/site-packages (from aiohttp>=3.7.4.post0->web3) (24.2.0)\n",
      "Requirement already satisfied: frozenlist>=1.1.1 in /home/cess/miniconda3/lib/python3.12/site-packages (from aiohttp>=3.7.4.post0->web3) (1.4.1)\n",
      "Requirement already satisfied: multidict<7.0,>=4.5 in /home/cess/miniconda3/lib/python3.12/site-packages (from aiohttp>=3.7.4.post0->web3) (6.0.5)\n",
      "Requirement already satisfied: yarl<2.0,>=1.0 in /home/cess/miniconda3/lib/python3.12/site-packages (from aiohttp>=3.7.4.post0->web3) (1.9.6)\n",
      "Requirement already satisfied: pycparser in /home/cess/miniconda3/lib/python3.12/site-packages (from cffi>=1.12->cryptography) (2.21)\n",
      "Requirement already satisfied: parsimonious<0.11.0,>=0.10.0 in /home/cess/miniconda3/lib/python3.12/site-packages (from eth-abi>=5.0.1->web3) (0.10.0)\n",
      "Requirement already satisfied: bitarray>=2.4.0 in /home/cess/miniconda3/lib/python3.12/site-packages (from eth-account>=0.13.1->web3) (2.9.3)\n",
      "Requirement already satisfied: eth-keyfile<0.9.0,>=0.7.0 in /home/cess/miniconda3/lib/python3.12/site-packages (from eth-account>=0.13.1->web3) (0.8.1)\n",
      "Requirement already satisfied: eth-keys>=0.4.0 in /home/cess/miniconda3/lib/python3.12/site-packages (from eth-account>=0.13.1->web3) (0.5.1)\n",
      "Requirement already satisfied: eth-rlp>=2.1.0 in /home/cess/miniconda3/lib/python3.12/site-packages (from eth-account>=0.13.1->web3) (2.1.0)\n",
      "Requirement already satisfied: rlp>=1.0.0 in /home/cess/miniconda3/lib/python3.12/site-packages (from eth-account>=0.13.1->web3) (4.0.1)\n",
      "Requirement already satisfied: ckzg>=2.0.0 in /home/cess/miniconda3/lib/python3.12/site-packages (from eth-account>=0.13.1->web3) (2.0.1)\n",
      "Requirement already satisfied: pycryptodome<4,>=3.6.6 in /home/cess/miniconda3/lib/python3.12/site-packages (from eth-hash[pycryptodome]>=0.5.1->web3) (3.20.0)\n",
      "Requirement already satisfied: cytoolz>=0.10.1 in /home/cess/miniconda3/lib/python3.12/site-packages (from eth-utils>=5.0.0->web3) (1.0.0)\n",
      "Requirement already satisfied: annotated-types>=0.6.0 in /home/cess/miniconda3/lib/python3.12/site-packages (from pydantic>=2.4.0->web3) (0.7.0)\n",
      "Requirement already satisfied: pydantic-core==2.23.4 in /home/cess/miniconda3/lib/python3.12/site-packages (from pydantic>=2.4.0->web3) (2.23.4)\n",
      "Requirement already satisfied: charset-normalizer<4,>=2 in /home/cess/miniconda3/lib/python3.12/site-packages (from requests>=2.23.0->web3) (2.0.4)\n",
      "Requirement already satisfied: idna<4,>=2.5 in /home/cess/miniconda3/lib/python3.12/site-packages (from requests>=2.23.0->web3) (3.7)\n",
      "Requirement already satisfied: urllib3<3,>=1.21.1 in /home/cess/miniconda3/lib/python3.12/site-packages (from requests>=2.23.0->web3) (2.2.2)\n",
      "Requirement already satisfied: certifi>=2017.4.17 in /home/cess/miniconda3/lib/python3.12/site-packages (from requests>=2.23.0->web3) (2024.7.4)\n",
      "Requirement already satisfied: toolz>=0.8.0 in /home/cess/miniconda3/lib/python3.12/site-packages (from cytoolz>=0.10.1->eth-utils>=5.0.0->web3) (1.0.0)\n",
      "Requirement already satisfied: regex>=2022.3.15 in /home/cess/miniconda3/lib/python3.12/site-packages (from parsimonious<0.11.0,>=0.10.0->eth-abi>=5.0.1->web3) (2024.9.11)\n",
      "Note: you may need to restart the kernel to use updated packages.\n"
     ]
    }
   ],
   "source": [
    "%pip install zmq web3 cryptography"
   ]
  },
  {
   "cell_type": "code",
   "execution_count": 2,
   "metadata": {},
   "outputs": [],
   "source": [
    "import zmq\n",
    "from web3 import Web3\n",
    "\n",
    "from cryptography.hazmat.primitives import serialization\n",
    "from cryptography.hazmat.primitives.asymmetric import padding\n",
    "from cryptography.hazmat.primitives.hashes import SHA256\n",
    "from cryptography.hazmat.backends import default_backend"
   ]
  },
  {
   "cell_type": "code",
   "execution_count": 3,
   "metadata": {},
   "outputs": [],
   "source": [
    "def encrypt(message):\n",
    "    with open(\"keys/public.pem\", \"rb\") as f:\n",
    "        public_key = serialization.load_pem_public_key(\n",
    "            f.read(),\n",
    "            backend=default_backend()\n",
    "        )\n",
    "\n",
    "    encrypted_message = public_key.encrypt(\n",
    "        message,\n",
    "        padding.OAEP(\n",
    "            mgf=padding.MGF1(algorithm=SHA256()),\n",
    "            algorithm=SHA256(),\n",
    "            label=None\n",
    "        )\n",
    "    )\n",
    "\n",
    "    return encrypted_message"
   ]
  },
  {
   "cell_type": "code",
   "execution_count": 4,
   "metadata": {},
   "outputs": [],
   "source": [
    "def decrypt(encrypted_message): \n",
    "    with open(\"keys/private.pem\", \"rb\") as f:\n",
    "        private_key = serialization.load_pem_private_key(\n",
    "            f.read(),\n",
    "            password=None,\n",
    "            backend=default_backend()\n",
    "        )\n",
    "\n",
    "    decrypted_message = private_key.decrypt(\n",
    "        encrypted_message,\n",
    "        padding.OAEP(\n",
    "            mgf=padding.MGF1(algorithm=SHA256()),\n",
    "            algorithm=SHA256(),\n",
    "            label=None\n",
    "        )\n",
    "    )\n",
    "\n",
    "    return decrypted_message"
   ]
  },
  {
   "cell_type": "code",
   "execution_count": 5,
   "metadata": {},
   "outputs": [],
   "source": [
    "from web3 import Web3\n",
    "w3 = Web3(Web3.HTTPProvider(\"http://127.0.0.1:9944\"))\n",
    "address = \"0x59A939E2a21CC79073cDe58Bf80108a7401e6Bd9\"\n",
    "abi = '[{\"inputs\": [{\"internalType\": \"address\",\"name\": \"_admin\",\"type\": \"address\"},{\"internalType\": \"address\",\"name\": \"_server\",\"type\": \"address\"}],\"stateMutability\": \"nonpayable\",\"type\": \"constructor\"},{\"anonymous\": false,\"inputs\": [{\"indexed\": true,\"internalType\": \"address\",\"name\": \"oldAdmin\",\"type\": \"address\"},{\"indexed\": true,\"internalType\": \"address\",\"name\": \"newAdmin\",\"type\": \"address\"}],\"name\": \"AdminTransferred\",\"type\": \"event\"},{\"anonymous\": false,\"inputs\": [{\"indexed\": true,\"internalType\": \"address\",\"name\": \"client\",\"type\": \"address\"}],\"name\": \"ClientDeregistered\",\"type\": \"event\"},{\"anonymous\": false,\"inputs\": [{\"indexed\": true,\"internalType\": \"address\",\"name\": \"client\",\"type\": \"address\"}],\"name\": \"ClientRegistered\",\"type\": \"event\"},{\"inputs\": [{\"internalType\": \"address\",\"name\": \"_client\",\"type\": \"address\"}],\"name\": \"deregisterClient\",\"outputs\": [],\"stateMutability\": \"nonpayable\",\"type\": \"function\"},{\"anonymous\": false,\"inputs\": [{\"indexed\": false,\"internalType\": \"string\",\"name\": \"modelHash\",\"type\": \"string\"},{\"indexed\": false,\"internalType\": \"uint256\",\"name\": \"round\",\"type\": \"uint256\"}],\"name\": \"GlobalModelSubmitted\",\"type\": \"event\"},{\"anonymous\": false,\"inputs\": [{\"indexed\": true,\"internalType\": \"address\",\"name\": \"client\",\"type\": \"address\"},{\"indexed\": false,\"internalType\": \"string\",\"name\": \"modelHash\",\"type\": \"string\"},{\"indexed\": false,\"internalType\": \"uint256\",\"name\": \"round\",\"type\": \"uint256\"}],\"name\": \"LocalModelSubmitted\",\"type\": \"event\"},{\"inputs\": [{\"internalType\": \"address\",\"name\": \"_client\",\"type\": \"address\"}],\"name\": \"registerClient\",\"outputs\": [],\"stateMutability\": \"nonpayable\",\"type\": \"function\"},{\"anonymous\": false,\"inputs\": [{\"indexed\": true,\"internalType\": \"address\",\"name\": \"newServer\",\"type\": \"address\"}],\"name\": \"ServerUpdated\",\"type\": \"event\"},{\"inputs\": [{\"internalType\": \"string\",\"name\": \"_modelHash\",\"type\": \"string\"},{\"internalType\": \"uint256\",\"name\": \"_round\",\"type\": \"uint256\"}],\"name\": \"submitGlobalModelHash\",\"outputs\": [],\"stateMutability\": \"nonpayable\",\"type\": \"function\"},{\"inputs\": [{\"internalType\": \"string\",\"name\": \"_modelHash\",\"type\": \"string\"},{\"internalType\": \"uint256\",\"name\": \"_round\",\"type\": \"uint256\"}],\"name\": \"submitLocalModelHash\",\"outputs\": [],\"stateMutability\": \"nonpayable\",\"type\": \"function\"},{\"inputs\": [{\"internalType\": \"address\",\"name\": \"_newAdmin\",\"type\": \"address\"}],\"name\": \"transferAdmin\",\"outputs\": [],\"stateMutability\": \"nonpayable\",\"type\": \"function\"},{\"inputs\": [{\"internalType\": \"address\",\"name\": \"_newServer\",\"type\": \"address\"}],\"name\": \"updateServer\",\"outputs\": [],\"stateMutability\": \"nonpayable\",\"type\": \"function\"},{\"inputs\": [],\"name\": \"admin\",\"outputs\": [{\"internalType\": \"address\",\"name\": \"\",\"type\": \"address\"}],\"stateMutability\": \"view\",\"type\": \"function\"},{\"inputs\": [{\"internalType\": \"uint256\",\"name\": \"_round\",\"type\": \"uint256\"}],\"name\": \"getGlobalModelHash\",\"outputs\": [{\"internalType\": \"string\",\"name\": \"\",\"type\": \"string\"}],\"stateMutability\": \"view\",\"type\": \"function\"},{\"inputs\": [{\"internalType\": \"address\",\"name\": \"_client\",\"type\": \"address\"},{\"internalType\": \"uint256\",\"name\": \"_round\",\"type\": \"uint256\"}],\"name\": \"getLocalModelHashAtRound\",\"outputs\": [{\"internalType\": \"string\",\"name\": \"\",\"type\": \"string\"}],\"stateMutability\": \"view\",\"type\": \"function\"},{\"inputs\": [],\"name\": \"server\",\"outputs\": [{\"internalType\": \"address\",\"name\": \"\",\"type\": \"address\"}],\"stateMutability\": \"view\",\"type\": \"function\"}]'\n",
    "\n",
    "contract_instance = w3.eth.contract(address=address, abi=abi)"
   ]
  },
  {
   "cell_type": "code",
   "execution_count": null,
   "metadata": {},
   "outputs": [
    {
     "name": "stdout",
     "output_type": "stream",
     "text": [
      "TEE is running...\n",
      "Received model from client.\n",
      "Forwarding model to server...\n",
      "Forwarding aggregated model to client...\n",
      "Received model from client.\n",
      "Forwarding model to server...\n",
      "Forwarding aggregated model to client...\n",
      "Received model from client.\n",
      "Forwarding model to server...\n",
      "Forwarding aggregated model to client...\n",
      "Received model from client.\n",
      "Forwarding model to server...\n",
      "Forwarding aggregated model to client...\n",
      "Received model from client.\n",
      "Forwarding model to server...\n",
      "Forwarding aggregated model to client...\n"
     ]
    }
   ],
   "source": [
    "class TEE:\n",
    "    def __init__(self, client_address=\"tcp://*:9002\", server_address=\"tcp://127.0.0.1:9003\"):\n",
    "        self.context = zmq.Context()\n",
    "\n",
    "        # Client Communication\n",
    "        self.client_socket = self.context.socket(zmq.REP)  # REPLY to client\n",
    "        self.client_socket.bind(client_address)\n",
    "\n",
    "        # Server Communication\n",
    "        self.server_socket = self.context.socket(zmq.REQ)  # REQUEST to server\n",
    "        self.server_socket.connect(server_address)\n",
    "\n",
    "    def forward_to_server(self, data):\n",
    "        \"\"\"Forward the model received from the client to the server.\"\"\"\n",
    "        print(\"Forwarding model to server...\")\n",
    "        self.server_socket.send(data)\n",
    "        return self.server_socket.recv()  # Receive response from server\n",
    "\n",
    "    def forward_to_client(self, data):\n",
    "        \"\"\"Forward the aggregated model from the server to the client.\"\"\"\n",
    "        print(\"Forwarding aggregated model to client...\")\n",
    "        self.client_socket.send(data)\n",
    "\n",
    "    def run(self):\n",
    "        print(\"TEE is running...\")\n",
    "        while True:\n",
    "            # Receive model from client\n",
    "            client_message = self.client_socket.recv()\n",
    "            print(\"Received model from client.\")\n",
    "\n",
    "            # Forward to server and get the response (aggregated model or ACK)\n",
    "            server_response = self.forward_to_server(client_message)\n",
    "\n",
    "            # Send the server response back to the client\n",
    "            self.forward_to_client(server_response)\n",
    "\n",
    "if __name__ == \"__main__\":\n",
    "    tee_processor = TEE()\n",
    "    tee_processor.run()\n"
   ]
  }
 ],
 "metadata": {
  "kernelspec": {
   "display_name": "base",
   "language": "python",
   "name": "python3"
  },
  "language_info": {
   "codemirror_mode": {
    "name": "ipython",
    "version": 3
   },
   "file_extension": ".py",
   "mimetype": "text/x-python",
   "name": "python",
   "nbconvert_exporter": "python",
   "pygments_lexer": "ipython3",
   "version": "3.12.2"
  }
 },
 "nbformat": 4,
 "nbformat_minor": 2
}
