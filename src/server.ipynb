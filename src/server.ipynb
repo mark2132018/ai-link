{
 "cells": [
  {
   "cell_type": "code",
   "execution_count": null,
   "metadata": {},
   "outputs": [],
   "source": [
    "%pip install zmq web3"
   ]
  },
  {
   "cell_type": "code",
   "execution_count": 2,
   "metadata": {},
   "outputs": [],
   "source": [
    "import zmq\n",
    "import pickle\n",
    "from web3 import Web3\n",
    "from eth_account import Account\n",
    "\n",
    "from cryptography.hazmat.primitives import serialization\n",
    "from cryptography.hazmat.primitives.asymmetric import padding\n",
    "from cryptography.hazmat.primitives.hashes import SHA256\n",
    "from cryptography.hazmat.backends import default_backend"
   ]
  },
  {
   "cell_type": "code",
   "execution_count": 3,
   "metadata": {},
   "outputs": [],
   "source": [
    "w3 = Web3(Web3.HTTPProvider(\"http://127.0.0.1:9944\"))\n",
    "\n",
    "with open(\"contract/address\", \"r\") as file:\n",
    "    address = file.read()\n",
    "\n",
    "with open(\"contract/abi\", \"r\") as file:\n",
    "    abi = file.read()\n",
    "\n",
    "contract_instance = w3.eth.contract(address=address, abi=abi)"
   ]
  },
  {
   "cell_type": "code",
   "execution_count": 4,
   "metadata": {},
   "outputs": [],
   "source": [
    "with open(\"keys/server\", \"r\") as file:\n",
    "    private_key = file.read()\n",
    "\n",
    "account = Account.from_key(private_key)\n",
    "sender_address = account.address\n",
    "\n",
    "def submitAggregateModelHash(modelHash: str, round: int):\n",
    "    transaction = contract_instance.functions.submitGlobalModelHash(modelHash, round).build_transaction({\n",
    "        'from': sender_address,\n",
    "        'nonce': w3.eth.get_transaction_count(sender_address)\n",
    "    })\n",
    "\n",
    "    signed_transaction = w3.eth.account.sign_transaction(transaction, private_key)\n",
    "\n",
    "    tx_hash = w3.eth.send_raw_transaction(signed_transaction.raw_transaction)\n",
    "\n",
    "    tx_receipt = w3.eth.wait_for_transaction_receipt(tx_hash)\n",
    "\n",
    "    print(tx_receipt)"
   ]
  },
  {
   "cell_type": "code",
   "execution_count": 5,
   "metadata": {},
   "outputs": [],
   "source": [
    "def encrypt(message):\n",
    "    with open(\"keys/public.pem\", \"rb\") as f:\n",
    "        public_key = serialization.load_pem_public_key(\n",
    "            f.read(),\n",
    "            backend=default_backend()\n",
    "        )\n",
    "\n",
    "    encrypted_message = public_key.encrypt(\n",
    "        message,\n",
    "        padding.OAEP(\n",
    "            mgf=padding.MGF1(algorithm=SHA256()),\n",
    "            algorithm=SHA256(),\n",
    "            label=None\n",
    "        )\n",
    "    )\n",
    "\n",
    "    return encrypted_message"
   ]
  },
  {
   "cell_type": "code",
   "execution_count": 6,
   "metadata": {},
   "outputs": [],
   "source": [
    "def decrypt(encrypted_message): \n",
    "    with open(\"keys/private.pem\", \"rb\") as f:\n",
    "        private_key = serialization.load_pem_private_key(\n",
    "            f.read(),\n",
    "            password=None,\n",
    "            backend=default_backend()\n",
    "        )\n",
    "\n",
    "    decrypted_message = private_key.decrypt(\n",
    "        encrypted_message,\n",
    "        padding.OAEP(\n",
    "            mgf=padding.MGF1(algorithm=SHA256()),\n",
    "            algorithm=SHA256(),\n",
    "            label=None\n",
    "        )\n",
    "    )\n",
    "\n",
    "    return decrypted_message"
   ]
  },
  {
   "cell_type": "code",
   "execution_count": null,
   "metadata": {},
   "outputs": [],
   "source": [
    "\n",
    "\n",
    "class FederatedServer:\n",
    "    def __init__(self, address=\"tcp://*:9003\"):\n",
    "        self.context = zmq.Context()\n",
    "        self.socket = self.context.socket(zmq.REP)  # REPLY socket\n",
    "        self.socket.bind(address)\n",
    "\n",
    "    def aggregate_models(self, model_list):\n",
    "        \"\"\"Aggregate model weights by averaging.\"\"\"\n",
    "        avg_model = model_list[0]\n",
    "        for key in avg_model.keys():\n",
    "            for model in model_list[1:]:\n",
    "                avg_model[key] += model[key]\n",
    "            avg_model[key] /= len(model_list)\n",
    "        return avg_model\n",
    "\n",
    "    def run(self):\n",
    "        print(\"Server is running...\")\n",
    "        model_updates = []\n",
    "\n",
    "        while True:\n",
    "            message = self.socket.recv()\n",
    "            client_update = pickle.loads(message)\n",
    "            print(\"Received model update from TEE.\")\n",
    "\n",
    "            model_updates.append(client_update)\n",
    "\n",
    "            if len(model_updates) >= 2:  # Assume 2 clients for simplicity\n",
    "                print(\"Aggregating models...\")\n",
    "                aggregated_model = self.aggregate_models(model_updates)\n",
    "\n",
    "                aggregated_model_bytes = pickle.dumps(aggregated_model)\n",
    "                aggregated_model_hash = Web3.keccak(aggregated_model_bytes).hex()\n",
    "                submitAggregateModelHash(aggregated_model_hash , 1)\n",
    "                self.socket.send(aggregated_model_bytes)\n",
    "                \n",
    "                print(\"Aggregated model sent to TEE.\")\n",
    "                model_updates = []  # Reset after aggregation\n",
    "            else:\n",
    "                self.socket.send(b\"ACK\")  # Acknowledge reception\n",
    "\n",
    "if __name__ == \"__main__\":\n",
    "    server = FederatedServer()\n",
    "    server.run()\n"
   ]
  }
 ],
 "metadata": {
  "kernelspec": {
   "display_name": "base",
   "language": "python",
   "name": "python3"
  },
  "language_info": {
   "codemirror_mode": {
    "name": "ipython",
    "version": 3
   },
   "file_extension": ".py",
   "mimetype": "text/x-python",
   "name": "python",
   "nbconvert_exporter": "python",
   "pygments_lexer": "ipython3",
   "version": "3.12.2"
  }
 },
 "nbformat": 4,
 "nbformat_minor": 2
}
