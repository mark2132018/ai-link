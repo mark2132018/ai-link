{
 "cells": [
  {
   "cell_type": "code",
   "execution_count": 1,
   "metadata": {},
   "outputs": [
    {
     "name": "stdout",
     "output_type": "stream",
     "text": [
      "Requirement already satisfied: zmq in /home/cess/miniconda3/lib/python3.12/site-packages (0.0.0)\n",
      "Requirement already satisfied: web3 in /home/cess/miniconda3/lib/python3.12/site-packages (7.3.0)\n",
      "Requirement already satisfied: pyzmq in /home/cess/miniconda3/lib/python3.12/site-packages (from zmq) (26.1.0)\n",
      "Requirement already satisfied: eth-abi>=5.0.1 in /home/cess/miniconda3/lib/python3.12/site-packages (from web3) (5.1.0)\n",
      "Requirement already satisfied: eth-account>=0.13.1 in /home/cess/miniconda3/lib/python3.12/site-packages (from web3) (0.13.4)\n",
      "Requirement already satisfied: eth-hash>=0.5.1 in /home/cess/miniconda3/lib/python3.12/site-packages (from eth-hash[pycryptodome]>=0.5.1->web3) (0.7.0)\n",
      "Requirement already satisfied: eth-typing>=5.0.0 in /home/cess/miniconda3/lib/python3.12/site-packages (from web3) (5.0.0)\n",
      "Requirement already satisfied: eth-utils>=5.0.0 in /home/cess/miniconda3/lib/python3.12/site-packages (from web3) (5.0.0)\n",
      "Requirement already satisfied: hexbytes>=1.2.0 in /home/cess/miniconda3/lib/python3.12/site-packages (from web3) (1.2.1)\n",
      "Requirement already satisfied: aiohttp>=3.7.4.post0 in /home/cess/miniconda3/lib/python3.12/site-packages (from web3) (3.10.3)\n",
      "Requirement already satisfied: pydantic>=2.4.0 in /home/cess/miniconda3/lib/python3.12/site-packages (from web3) (2.9.2)\n",
      "Requirement already satisfied: requests>=2.23.0 in /home/cess/miniconda3/lib/python3.12/site-packages (from web3) (2.32.2)\n",
      "Requirement already satisfied: typing-extensions>=4.0.1 in /home/cess/miniconda3/lib/python3.12/site-packages (from web3) (4.11.0)\n",
      "Requirement already satisfied: types-requests>=2.0.0 in /home/cess/miniconda3/lib/python3.12/site-packages (from web3) (2.32.0.20240914)\n",
      "Requirement already satisfied: websockets>=10.0.0 in /home/cess/miniconda3/lib/python3.12/site-packages (from web3) (13.1)\n",
      "Requirement already satisfied: pyunormalize>=15.0.0 in /home/cess/miniconda3/lib/python3.12/site-packages (from web3) (16.0.0)\n",
      "Requirement already satisfied: aiohappyeyeballs>=2.3.0 in /home/cess/miniconda3/lib/python3.12/site-packages (from aiohttp>=3.7.4.post0->web3) (2.4.0)\n",
      "Requirement already satisfied: aiosignal>=1.1.2 in /home/cess/miniconda3/lib/python3.12/site-packages (from aiohttp>=3.7.4.post0->web3) (1.3.1)\n",
      "Requirement already satisfied: attrs>=17.3.0 in /home/cess/miniconda3/lib/python3.12/site-packages (from aiohttp>=3.7.4.post0->web3) (24.2.0)\n",
      "Requirement already satisfied: frozenlist>=1.1.1 in /home/cess/miniconda3/lib/python3.12/site-packages (from aiohttp>=3.7.4.post0->web3) (1.4.1)\n",
      "Requirement already satisfied: multidict<7.0,>=4.5 in /home/cess/miniconda3/lib/python3.12/site-packages (from aiohttp>=3.7.4.post0->web3) (6.0.5)\n",
      "Requirement already satisfied: yarl<2.0,>=1.0 in /home/cess/miniconda3/lib/python3.12/site-packages (from aiohttp>=3.7.4.post0->web3) (1.9.6)\n",
      "Requirement already satisfied: parsimonious<0.11.0,>=0.10.0 in /home/cess/miniconda3/lib/python3.12/site-packages (from eth-abi>=5.0.1->web3) (0.10.0)\n",
      "Requirement already satisfied: bitarray>=2.4.0 in /home/cess/miniconda3/lib/python3.12/site-packages (from eth-account>=0.13.1->web3) (2.9.3)\n",
      "Requirement already satisfied: eth-keyfile<0.9.0,>=0.7.0 in /home/cess/miniconda3/lib/python3.12/site-packages (from eth-account>=0.13.1->web3) (0.8.1)\n",
      "Requirement already satisfied: eth-keys>=0.4.0 in /home/cess/miniconda3/lib/python3.12/site-packages (from eth-account>=0.13.1->web3) (0.5.1)\n",
      "Requirement already satisfied: eth-rlp>=2.1.0 in /home/cess/miniconda3/lib/python3.12/site-packages (from eth-account>=0.13.1->web3) (2.1.0)\n",
      "Requirement already satisfied: rlp>=1.0.0 in /home/cess/miniconda3/lib/python3.12/site-packages (from eth-account>=0.13.1->web3) (4.0.1)\n",
      "Requirement already satisfied: ckzg>=2.0.0 in /home/cess/miniconda3/lib/python3.12/site-packages (from eth-account>=0.13.1->web3) (2.0.1)\n",
      "Requirement already satisfied: pycryptodome<4,>=3.6.6 in /home/cess/miniconda3/lib/python3.12/site-packages (from eth-hash[pycryptodome]>=0.5.1->web3) (3.20.0)\n",
      "Requirement already satisfied: cytoolz>=0.10.1 in /home/cess/miniconda3/lib/python3.12/site-packages (from eth-utils>=5.0.0->web3) (1.0.0)\n",
      "Requirement already satisfied: annotated-types>=0.6.0 in /home/cess/miniconda3/lib/python3.12/site-packages (from pydantic>=2.4.0->web3) (0.7.0)\n",
      "Requirement already satisfied: pydantic-core==2.23.4 in /home/cess/miniconda3/lib/python3.12/site-packages (from pydantic>=2.4.0->web3) (2.23.4)\n",
      "Requirement already satisfied: charset-normalizer<4,>=2 in /home/cess/miniconda3/lib/python3.12/site-packages (from requests>=2.23.0->web3) (2.0.4)\n",
      "Requirement already satisfied: idna<4,>=2.5 in /home/cess/miniconda3/lib/python3.12/site-packages (from requests>=2.23.0->web3) (3.7)\n",
      "Requirement already satisfied: urllib3<3,>=1.21.1 in /home/cess/miniconda3/lib/python3.12/site-packages (from requests>=2.23.0->web3) (2.2.2)\n",
      "Requirement already satisfied: certifi>=2017.4.17 in /home/cess/miniconda3/lib/python3.12/site-packages (from requests>=2.23.0->web3) (2024.7.4)\n",
      "Requirement already satisfied: toolz>=0.8.0 in /home/cess/miniconda3/lib/python3.12/site-packages (from cytoolz>=0.10.1->eth-utils>=5.0.0->web3) (1.0.0)\n",
      "Requirement already satisfied: regex>=2022.3.15 in /home/cess/miniconda3/lib/python3.12/site-packages (from parsimonious<0.11.0,>=0.10.0->eth-abi>=5.0.1->web3) (2024.9.11)\n",
      "Note: you may need to restart the kernel to use updated packages.\n"
     ]
    }
   ],
   "source": [
    "%pip install zmq web3"
   ]
  },
  {
   "cell_type": "code",
   "execution_count": 2,
   "metadata": {},
   "outputs": [],
   "source": [
    "import zmq\n",
    "import pickle\n",
    "from web3 import Web3\n",
    "from eth_account import Account\n",
    "\n",
    "from cryptography.hazmat.primitives import serialization\n",
    "from cryptography.hazmat.primitives.asymmetric import padding\n",
    "from cryptography.hazmat.primitives.hashes import SHA256\n",
    "from cryptography.hazmat.backends import default_backend"
   ]
  },
  {
   "cell_type": "code",
   "execution_count": 3,
   "metadata": {},
   "outputs": [],
   "source": [
    "from web3 import Web3\n",
    "w3 = Web3(Web3.HTTPProvider(\"http://127.0.0.1:9944\"))\n",
    "address = \"0x59A939E2a21CC79073cDe58Bf80108a7401e6Bd9\"\n",
    "abi = '[{\"inputs\": [{\"internalType\": \"address\",\"name\": \"_admin\",\"type\": \"address\"},{\"internalType\": \"address\",\"name\": \"_server\",\"type\": \"address\"}],\"stateMutability\": \"nonpayable\",\"type\": \"constructor\"},{\"anonymous\": false,\"inputs\": [{\"indexed\": true,\"internalType\": \"address\",\"name\": \"oldAdmin\",\"type\": \"address\"},{\"indexed\": true,\"internalType\": \"address\",\"name\": \"newAdmin\",\"type\": \"address\"}],\"name\": \"AdminTransferred\",\"type\": \"event\"},{\"anonymous\": false,\"inputs\": [{\"indexed\": true,\"internalType\": \"address\",\"name\": \"client\",\"type\": \"address\"}],\"name\": \"ClientDeregistered\",\"type\": \"event\"},{\"anonymous\": false,\"inputs\": [{\"indexed\": true,\"internalType\": \"address\",\"name\": \"client\",\"type\": \"address\"}],\"name\": \"ClientRegistered\",\"type\": \"event\"},{\"inputs\": [{\"internalType\": \"address\",\"name\": \"_client\",\"type\": \"address\"}],\"name\": \"deregisterClient\",\"outputs\": [],\"stateMutability\": \"nonpayable\",\"type\": \"function\"},{\"anonymous\": false,\"inputs\": [{\"indexed\": false,\"internalType\": \"string\",\"name\": \"modelHash\",\"type\": \"string\"},{\"indexed\": false,\"internalType\": \"uint256\",\"name\": \"round\",\"type\": \"uint256\"}],\"name\": \"GlobalModelSubmitted\",\"type\": \"event\"},{\"anonymous\": false,\"inputs\": [{\"indexed\": true,\"internalType\": \"address\",\"name\": \"client\",\"type\": \"address\"},{\"indexed\": false,\"internalType\": \"string\",\"name\": \"modelHash\",\"type\": \"string\"},{\"indexed\": false,\"internalType\": \"uint256\",\"name\": \"round\",\"type\": \"uint256\"}],\"name\": \"LocalModelSubmitted\",\"type\": \"event\"},{\"inputs\": [{\"internalType\": \"address\",\"name\": \"_client\",\"type\": \"address\"}],\"name\": \"registerClient\",\"outputs\": [],\"stateMutability\": \"nonpayable\",\"type\": \"function\"},{\"anonymous\": false,\"inputs\": [{\"indexed\": true,\"internalType\": \"address\",\"name\": \"newServer\",\"type\": \"address\"}],\"name\": \"ServerUpdated\",\"type\": \"event\"},{\"inputs\": [{\"internalType\": \"string\",\"name\": \"_modelHash\",\"type\": \"string\"},{\"internalType\": \"uint256\",\"name\": \"_round\",\"type\": \"uint256\"}],\"name\": \"submitGlobalModelHash\",\"outputs\": [],\"stateMutability\": \"nonpayable\",\"type\": \"function\"},{\"inputs\": [{\"internalType\": \"string\",\"name\": \"_modelHash\",\"type\": \"string\"},{\"internalType\": \"uint256\",\"name\": \"_round\",\"type\": \"uint256\"}],\"name\": \"submitLocalModelHash\",\"outputs\": [],\"stateMutability\": \"nonpayable\",\"type\": \"function\"},{\"inputs\": [{\"internalType\": \"address\",\"name\": \"_newAdmin\",\"type\": \"address\"}],\"name\": \"transferAdmin\",\"outputs\": [],\"stateMutability\": \"nonpayable\",\"type\": \"function\"},{\"inputs\": [{\"internalType\": \"address\",\"name\": \"_newServer\",\"type\": \"address\"}],\"name\": \"updateServer\",\"outputs\": [],\"stateMutability\": \"nonpayable\",\"type\": \"function\"},{\"inputs\": [],\"name\": \"admin\",\"outputs\": [{\"internalType\": \"address\",\"name\": \"\",\"type\": \"address\"}],\"stateMutability\": \"view\",\"type\": \"function\"},{\"inputs\": [{\"internalType\": \"uint256\",\"name\": \"_round\",\"type\": \"uint256\"}],\"name\": \"getGlobalModelHash\",\"outputs\": [{\"internalType\": \"string\",\"name\": \"\",\"type\": \"string\"}],\"stateMutability\": \"view\",\"type\": \"function\"},{\"inputs\": [{\"internalType\": \"address\",\"name\": \"_client\",\"type\": \"address\"},{\"internalType\": \"uint256\",\"name\": \"_round\",\"type\": \"uint256\"}],\"name\": \"getLocalModelHashAtRound\",\"outputs\": [{\"internalType\": \"string\",\"name\": \"\",\"type\": \"string\"}],\"stateMutability\": \"view\",\"type\": \"function\"},{\"inputs\": [],\"name\": \"server\",\"outputs\": [{\"internalType\": \"address\",\"name\": \"\",\"type\": \"address\"}],\"stateMutability\": \"view\",\"type\": \"function\"}]'\n",
    "\n",
    "contract_instance = w3.eth.contract(address=address, abi=abi)"
   ]
  },
  {
   "cell_type": "code",
   "execution_count": 4,
   "metadata": {},
   "outputs": [],
   "source": [
    "with open(\"keys/server\", \"r\") as file:\n",
    "    private_key = file.read()\n",
    "\n",
    "account = Account.from_key(private_key)\n",
    "sender_address = account.address\n",
    "\n",
    "def submitAggregateModelHash(modelHash: str, round: int):\n",
    "    transaction = contract_instance.functions.submitGlobalModelHash(modelHash, round).build_transaction({\n",
    "        'from': sender_address,\n",
    "        'nonce': w3.eth.get_transaction_count(sender_address)\n",
    "    })\n",
    "\n",
    "    signed_transaction = w3.eth.account.sign_transaction(transaction, private_key)\n",
    "\n",
    "    tx_hash = w3.eth.send_raw_transaction(signed_transaction.raw_transaction)\n",
    "\n",
    "    tx_receipt = w3.eth.wait_for_transaction_receipt(tx_hash)\n",
    "\n",
    "    print(tx_receipt)"
   ]
  },
  {
   "cell_type": "code",
   "execution_count": 5,
   "metadata": {},
   "outputs": [],
   "source": [
    "def encrypt(message):\n",
    "    with open(\"keys/public.pem\", \"rb\") as f:\n",
    "        public_key = serialization.load_pem_public_key(\n",
    "            f.read(),\n",
    "            backend=default_backend()\n",
    "        )\n",
    "\n",
    "    encrypted_message = public_key.encrypt(\n",
    "        message,\n",
    "        padding.OAEP(\n",
    "            mgf=padding.MGF1(algorithm=SHA256()),\n",
    "            algorithm=SHA256(),\n",
    "            label=None\n",
    "        )\n",
    "    )\n",
    "\n",
    "    return encrypted_message"
   ]
  },
  {
   "cell_type": "code",
   "execution_count": 6,
   "metadata": {},
   "outputs": [],
   "source": [
    "def decrypt(encrypted_message): \n",
    "    with open(\"keys/private.pem\", \"rb\") as f:\n",
    "        private_key = serialization.load_pem_private_key(\n",
    "            f.read(),\n",
    "            password=None,\n",
    "            backend=default_backend()\n",
    "        )\n",
    "\n",
    "    decrypted_message = private_key.decrypt(\n",
    "        encrypted_message,\n",
    "        padding.OAEP(\n",
    "            mgf=padding.MGF1(algorithm=SHA256()),\n",
    "            algorithm=SHA256(),\n",
    "            label=None\n",
    "        )\n",
    "    )\n",
    "\n",
    "    return decrypted_message"
   ]
  },
  {
   "cell_type": "code",
   "execution_count": null,
   "metadata": {},
   "outputs": [
    {
     "name": "stdout",
     "output_type": "stream",
     "text": [
      "Server is running...\n"
     ]
    },
    {
     "name": "stderr",
     "output_type": "stream",
     "text": [
      "/home/cess/miniconda3/lib/python3.12/site-packages/torch/storage.py:414: FutureWarning: You are using `torch.load` with `weights_only=False` (the current default value), which uses the default pickle module implicitly. It is possible to construct malicious pickle data which will execute arbitrary code during unpickling (See https://github.com/pytorch/pytorch/blob/main/SECURITY.md#untrusted-models for more details). In a future release, the default value for `weights_only` will be flipped to `True`. This limits the functions that could be executed during unpickling. Arbitrary objects will no longer be allowed to be loaded via this mode unless they are explicitly allowlisted by the user via `torch.serialization.add_safe_globals`. We recommend you start setting `weights_only=True` for any use case where you don't have full control of the loaded file. Please open an issue on GitHub for any issues related to this experimental feature.\n",
      "  return torch.load(io.BytesIO(b))\n"
     ]
    },
    {
     "name": "stdout",
     "output_type": "stream",
     "text": [
      "Received model update from TEE.\n",
      "Received model update from TEE.\n",
      "Aggregating models...\n",
      "AttributeDict({'transactionHash': HexBytes('0x7dd50fe291a76873183053b4286fbbe9c39508136e8665f7e7ef108fbd9b4160'), 'transactionIndex': 0, 'blockHash': HexBytes('0x8cabbf627c4ba8a76423db93c8394fd137c1b0b8f0593305bcd98223b40990f6'), 'from': '0xa0BBC1A2b77d499102e8836d7EBc12A8D4B351D4', 'to': '0x59A939E2a21CC79073cDe58Bf80108a7401e6Bd9', 'blockNumber': 3481, 'cumulativeGasUsed': 103474, 'gasUsed': 103474, 'contractAddress': None, 'logs': [AttributeDict({'address': '0x59A939E2a21CC79073cDe58Bf80108a7401e6Bd9', 'topics': [HexBytes('0x11c5701841d606d3ead07e128db0b6d300a6204eaf51cee07dcd443ec5811d76')], 'data': HexBytes('0x00000000000000000000000000000000000000000000000000000000000000400000000000000000000000000000000000000000000000000000000000000001000000000000000000000000000000000000000000000000000000000000004039396438333063353634306437613632313236303530616337663764346234383464666536626435393433386161386665393938316434333338613165336331'), 'blockHash': HexBytes('0x8cabbf627c4ba8a76423db93c8394fd137c1b0b8f0593305bcd98223b40990f6'), 'blockNumber': 3481, 'transactionHash': HexBytes('0x7dd50fe291a76873183053b4286fbbe9c39508136e8665f7e7ef108fbd9b4160'), 'transactionIndex': 0, 'logIndex': 0, 'transactionLogIndex': '0x0', 'removed': False})], 'logsBloom': HexBytes('0x00000000000000000000000000000000000000000000000000000000000000000000000000000000000000000000000000000000000000000000200000000000000000000000000000000080000000000000000000000000000000000000000000000000000000000000000000000000000000000000000000000004000000000000000000000000000000000000000000000000000000000000000000000000000000000000000000000000000040000000000000000000001000000000000000000000000000000000000000000000000000000000000000000000000000000000000000000000000000000000000000000000000200000000000000000000'), 'status': 1, 'effectiveGasPrice': 500000000, 'type': 2})\n",
      "Aggregated model sent to TEE.\n",
      "Received model update from TEE.\n",
      "Received model update from TEE.\n",
      "Aggregating models...\n",
      "AttributeDict({'transactionHash': HexBytes('0x8fa9db623d956ee28295f73aa8e3d01140d6e373cac82ad8beb27ecf83d6ffa2'), 'transactionIndex': 0, 'blockHash': HexBytes('0x782461ddb794af029882bfa42c6cd07a1a0713ad3f3033c0077b7dfffe33fd4b'), 'from': '0xa0BBC1A2b77d499102e8836d7EBc12A8D4B351D4', 'to': '0x59A939E2a21CC79073cDe58Bf80108a7401e6Bd9', 'blockNumber': 3484, 'cumulativeGasUsed': 103474, 'gasUsed': 103474, 'contractAddress': None, 'logs': [AttributeDict({'address': '0x59A939E2a21CC79073cDe58Bf80108a7401e6Bd9', 'topics': [HexBytes('0x11c5701841d606d3ead07e128db0b6d300a6204eaf51cee07dcd443ec5811d76')], 'data': HexBytes('0x00000000000000000000000000000000000000000000000000000000000000400000000000000000000000000000000000000000000000000000000000000001000000000000000000000000000000000000000000000000000000000000004031666633376132656238333864626339646332383634336266343564616432653463393062313439383637643362353633613933613734363336313435643032'), 'blockHash': HexBytes('0x782461ddb794af029882bfa42c6cd07a1a0713ad3f3033c0077b7dfffe33fd4b'), 'blockNumber': 3484, 'transactionHash': HexBytes('0x8fa9db623d956ee28295f73aa8e3d01140d6e373cac82ad8beb27ecf83d6ffa2'), 'transactionIndex': 0, 'logIndex': 0, 'transactionLogIndex': '0x0', 'removed': False})], 'logsBloom': HexBytes('0x00000000000000000000000000000000000000000000000000000000000000000000000000000000000000000000000000000000000000000000200000000000000000000000000000000080000000000000000000000000000000000000000000000000000000000000000000000000000000000000000000000004000000000000000000000000000000000000000000000000000000000000000000000000000000000000000000000000000040000000000000000000001000000000000000000000000000000000000000000000000000000000000000000000000000000000000000000000000000000000000000000000000200000000000000000000'), 'status': 1, 'effectiveGasPrice': 500000000, 'type': 2})\n",
      "Aggregated model sent to TEE.\n",
      "Received model update from TEE.\n"
     ]
    }
   ],
   "source": [
    "\n",
    "\n",
    "class FederatedServer:\n",
    "    def __init__(self, address=\"tcp://*:9003\"):\n",
    "        self.context = zmq.Context()\n",
    "        self.socket = self.context.socket(zmq.REP)  # REPLY socket\n",
    "        self.socket.bind(address)\n",
    "\n",
    "    def aggregate_models(self, model_list):\n",
    "        \"\"\"Aggregate model weights by averaging.\"\"\"\n",
    "        avg_model = model_list[0]\n",
    "        for key in avg_model.keys():\n",
    "            for model in model_list[1:]:\n",
    "                avg_model[key] += model[key]\n",
    "            avg_model[key] /= len(model_list)\n",
    "        return avg_model\n",
    "\n",
    "    def run(self):\n",
    "        print(\"Server is running...\")\n",
    "        model_updates = []\n",
    "\n",
    "        while True:\n",
    "            message = self.socket.recv()\n",
    "            client_update = pickle.loads(message)\n",
    "            print(\"Received model update from TEE.\")\n",
    "\n",
    "            model_updates.append(client_update)\n",
    "\n",
    "            if len(model_updates) >= 2:  # Assume 2 clients for simplicity\n",
    "                print(\"Aggregating models...\")\n",
    "                aggregated_model = self.aggregate_models(model_updates)\n",
    "\n",
    "                aggregated_model_bytes = pickle.dumps(aggregated_model)\n",
    "                aggregated_model_hash = Web3.keccak(aggregated_model_bytes).hex()\n",
    "                submitAggregateModelHash(aggregated_model_hash , 1)\n",
    "                self.socket.send(aggregated_model_bytes)\n",
    "                \n",
    "                print(\"Aggregated model sent to TEE.\")\n",
    "                model_updates = []  # Reset after aggregation\n",
    "            else:\n",
    "                self.socket.send(b\"ACK\")  # Acknowledge reception\n",
    "\n",
    "if __name__ == \"__main__\":\n",
    "    server = FederatedServer()\n",
    "    server.run()\n"
   ]
  }
 ],
 "metadata": {
  "kernelspec": {
   "display_name": "base",
   "language": "python",
   "name": "python3"
  },
  "language_info": {
   "codemirror_mode": {
    "name": "ipython",
    "version": 3
   },
   "file_extension": ".py",
   "mimetype": "text/x-python",
   "name": "python",
   "nbconvert_exporter": "python",
   "pygments_lexer": "ipython3",
   "version": "3.12.2"
  }
 },
 "nbformat": 4,
 "nbformat_minor": 2
}
